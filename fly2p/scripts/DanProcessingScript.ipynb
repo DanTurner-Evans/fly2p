{
 "cells": [
  {
   "cell_type": "markdown",
   "metadata": {},
   "source": [
    "### Import libraries"
   ]
  },
  {
   "cell_type": "code",
   "execution_count": 1,
   "metadata": {},
   "outputs": [],
   "source": [
    "from os.path import sep, exists\n",
    "from ScanImageTiffReader import ScanImageTiffReader\n",
    "from skimage.registration import phase_cross_correlation\n",
    "from scipy.ndimage.filters import gaussian_filter\n",
    "from scipy.ndimage import fourier_shift\n",
    "import numpy as np\n",
    "from matplotlib import pyplot as plt\n",
    "import napari\n",
    "import cv2 as cv\n",
    "import pandas as pd\n",
    "import re"
   ]
  },
  {
   "cell_type": "markdown",
   "metadata": {},
   "source": [
    "### Point to the data"
   ]
  },
  {
   "cell_type": "code",
   "execution_count": 2,
   "metadata": {},
   "outputs": [
    {
     "name": "stdout",
     "output_type": "stream",
     "text": [
      "C:\\Users\\dantu\\Documents\\Data\\G-E\\TwoWorlds\\20201210\\\n",
      "C:\\Users\\dantu\\Documents\\Data\\G-E\\TwoWorlds\\plots\n"
     ]
    }
   ],
   "source": [
    "dataDir = 'C:\\\\Users\\\\dantu\\\\Documents\\\\Data\\\\G-E\\\\TwoWorlds\\\\20201210\\\\'\n",
    "rawTiff = 'Fly1_6-7days_7fx60D05_00001.tif'\n",
    "plotDir = sep.join(dataDir.split(sep)[:-2])+sep+'plots'\n",
    "\n",
    "print(dataDir)\n",
    "print(plotDir)"
   ]
  },
  {
   "cell_type": "markdown",
   "metadata": {},
   "source": [
    "### Load the tif file"
   ]
  },
  {
   "cell_type": "code",
   "execution_count": null,
   "metadata": {},
   "outputs": [],
   "source": [
    "mytiffreader = ScanImageTiffReader(sep.join([dataDir, rawTiff]))"
   ]
  },
  {
   "cell_type": "markdown",
   "metadata": {},
   "source": [
    "### Load the metadata and extract the relevant info"
   ]
  },
  {
   "cell_type": "code",
   "execution_count": null,
   "metadata": {},
   "outputs": [],
   "source": [
    "metadat = mytiffreader.metadata()"
   ]
  },
  {
   "cell_type": "code",
   "execution_count": null,
   "metadata": {},
   "outputs": [],
   "source": [
    "for i, line in enumerate(metadat.split('\\n')):\n",
    "    if not 'SI.' in line: continue\n",
    "    # extract version\n",
    "    if 'VERSION_' in line: print(line)\n",
    "\n",
    "    # get channel info\n",
    "    if 'channelSave' in line:\n",
    "        print(line)\n",
    "        if not '[' in line:\n",
    "            nCh = 1\n",
    "        else:\n",
    "            nCh = int(line.split('=')[-1].strip())\n",
    "\n",
    "    if 'scanFrameRate' in line:\n",
    "        fpsscan = float(line.split('=')[-1].strip())\n",
    "\n",
    "    if 'discardFlybackFrames' in line:\n",
    "        discardFBFrames = line.split('=')[-1].strip()\n",
    "\n",
    "    if 'numDiscardFlybackFrames' in line:\n",
    "        nDiscardFBFrames = int(line.split('=')[-1].strip())\n",
    "\n",
    "    if 'numFramesPerVolume' in line:\n",
    "        fpv = int(line.split('=')[-1].strip())\n",
    "\n",
    "    if 'numVolumes' in line:\n",
    "        nVols = int(line.split('=')[-1].strip())\n",
    "            \n",
    "print(' # channels: {}\\n fly back? {}\\n # discard frames: {}\\n # frames/volume: {}\\n # volumes: {}'.\\\n",
    "      format(nCh, discardFBFrames, nDiscardFBFrames, fpv, nVols))"
   ]
  },
  {
   "cell_type": "markdown",
   "metadata": {},
   "source": [
    "### Load the data, select the channel to consider, and discard the flyback frames"
   ]
  },
  {
   "cell_type": "code",
   "execution_count": null,
   "metadata": {},
   "outputs": [],
   "source": [
    "caCh = 0"
   ]
  },
  {
   "cell_type": "code",
   "execution_count": null,
   "metadata": {},
   "outputs": [],
   "source": [
    "vol = mytiffreader.data()\n",
    "volshape = vol.shape\n",
    "print(volshape)"
   ]
  },
  {
   "cell_type": "code",
   "execution_count": null,
   "metadata": {},
   "outputs": [],
   "source": [
    "vol = vol.reshape((int(volshape[0]/(fpv*nCh)),fpv,nCh,volshape[1], volshape[2]))\n",
    "print('Full dimensional stack: rawstack')\n",
    "print(vol.shape)\n",
    "\n",
    "\n",
    "stack4d = np.squeeze(vol[:,0:fpv-nDiscardFBFrames,caCh,:,:])\n",
    "print('Stack reduced to one color channel and flyback frames discrded: stack4d')\n",
    "print(stack4d.shape)"
   ]
  },
  {
   "cell_type": "markdown",
   "metadata": {},
   "source": [
    "### Find the MIP across each volume"
   ]
  },
  {
   "cell_type": "code",
   "execution_count": null,
   "metadata": {},
   "outputs": [],
   "source": [
    "stackMIP = stack4d.max(axis=1)\n",
    "stackMIP.shape"
   ]
  },
  {
   "cell_type": "code",
   "execution_count": null,
   "metadata": {},
   "outputs": [],
   "source": [
    "# Plot the mean\n",
    "fig, ax = plt.subplots(1,1,figsize=(6,6))\n",
    "ax.imshow(stackMIP.mean(axis=0),cmap='Greys_r', vmin=0, origin='upper')\n",
    "ax.axis('off');"
   ]
  },
  {
   "cell_type": "markdown",
   "metadata": {},
   "source": [
    "### Motion correct"
   ]
  },
  {
   "cell_type": "markdown",
   "metadata": {},
   "source": [
    "#### Select a reference image for the motion correction"
   ]
  },
  {
   "cell_type": "code",
   "execution_count": null,
   "metadata": {},
   "outputs": [],
   "source": [
    "# Settings\n",
    "## reference image\n",
    "numRefImg = 100\n",
    "locRefImg = round(nVols/12)\n",
    "\n",
    "## registration\n",
    "upsampleFactor = 20\n",
    "\n",
    "# Generate reference image\n",
    "refImg = np.mean(stackMIP[locRefImg:locRefImg+numRefImg,:,:],axis=0)\n",
    "refImgFilt = gaussian_filter(refImg, sigma=2)\n",
    "\n",
    "fig, ax = plt.subplots(1,1,figsize=(6,6))\n",
    "ax.imshow(refImg,cmap='Greys_r', vmin=0, origin='upper')\n",
    "ax.axis('off');"
   ]
  },
  {
   "cell_type": "markdown",
   "metadata": {},
   "source": [
    "#### Perform the motion correction"
   ]
  },
  {
   "cell_type": "code",
   "execution_count": null,
   "metadata": {},
   "outputs": [],
   "source": [
    "upsampleFactor = 20\n",
    "\n",
    "shift = np.zeros((2, nVols))\n",
    "error = np.zeros(nVols)\n",
    "diffphase = np.zeros(nVols)\n",
    "\n",
    "stackMPMC = np.ones(stackMIP.shape).astype('int16')\n",
    "\n",
    "for i in range(nVols):\n",
    "    shifImg = stackMIP[i,:,:]\n",
    "    \n",
    "    shifImgFilt = gaussian_filter(shifImg, sigma=2)\n",
    "    \n",
    "    # subpixel precision\n",
    "    shift[:,i], error[i], diffphase[i] = phase_cross_correlation(refImgFilt, shifImgFilt, \n",
    "                                                                 upsample_factor = upsampleFactor)\n",
    "    \n",
    "    offset_image = fourier_shift(np.fft.fftn(shifImg), shift[:,i])\n",
    "    stackMPMC[i,:,:] = np.fft.ifftn(offset_image).real.astype('uint16')"
   ]
  },
  {
   "cell_type": "code",
   "execution_count": null,
   "metadata": {},
   "outputs": [],
   "source": [
    "fig, axs = plt.subplots(2,1,figsize=(12,6))\n",
    "axs[0].plot(shift[0,:])\n",
    "axs[0].plot(shift[1,:],'k')\n",
    "\n",
    "axs[1].plot(np.hypot(shift[0,:],shift[1,:]))\n",
    "axs[1].plot(locRefImg,0,'ro')"
   ]
  },
  {
   "cell_type": "markdown",
   "metadata": {},
   "source": [
    "#### Plot the motion corrected mean stack"
   ]
  },
  {
   "cell_type": "code",
   "execution_count": null,
   "metadata": {},
   "outputs": [],
   "source": [
    "fig, ax = plt.subplots(1,1,figsize=(6,6))\n",
    "ax.imshow(stackMPMC.mean(axis=0),cmap='Greys_r', vmin=0, origin='upper')\n",
    "ax.axis('off');"
   ]
  },
  {
   "cell_type": "markdown",
   "metadata": {},
   "source": [
    "### Look at the corrected data with napari"
   ]
  },
  {
   "cell_type": "markdown",
   "metadata": {},
   "source": [
    "#### Look at the whole stack"
   ]
  },
  {
   "cell_type": "code",
   "execution_count": null,
   "metadata": {},
   "outputs": [],
   "source": [
    "%gui qt5\n",
    "viewer_all = napari.view_image(stackMPMC)"
   ]
  },
  {
   "cell_type": "markdown",
   "metadata": {},
   "source": [
    "#### Look at the mean stack, draw an ellitical ROI, extract its properties, and form masks"
   ]
  },
  {
   "cell_type": "code",
   "execution_count": null,
   "metadata": {},
   "outputs": [],
   "source": [
    "%gui qt5\n",
    "viewer = napari.view_image(stackMPMC.mean(axis=0))"
   ]
  },
  {
   "cell_type": "code",
   "execution_count": null,
   "metadata": {},
   "outputs": [],
   "source": [
    "# Get the ROI properties\n",
    "eboutline = viewer.layers[\"EBOutline\"]\n",
    "\n",
    "ellipseCent = [np.mean([p[1] for p in eboutline.data[0]]),\n",
    "               np.mean([p[0] for p in eboutline.data[0]])]\n",
    "ellipseAx1 = np.sqrt((eboutline.data[0][0][0]-eboutline.data[0][1][0])**2 + \n",
    "                     (eboutline.data[0][0][1]-eboutline.data[0][1][1])**2)\n",
    "ellipseAx2 = np.sqrt((eboutline.data[0][2][0]-eboutline.data[0][1][0])**2 + \n",
    "                     (eboutline.data[0][2][1]-eboutline.data[0][1][1])**2)\n",
    "ellipseAng = 180/np.pi*np.arccos((eboutline.data[0][0][1]-eboutline.data[0][1][1])/\n",
    "                      (eboutline.data[0][0][0]-eboutline.data[0][1][0]))"
   ]
  },
  {
   "cell_type": "code",
   "execution_count": null,
   "metadata": {},
   "outputs": [],
   "source": [
    "# Make a mask for each section of the ellipse\n",
    "ellipseCentInt = (int(ellipseCent[0]),int(ellipseCent[1]))\n",
    "numROIs = 16\n",
    "angStep = 360/numROIs\n",
    "\n",
    "allMasks = []\n",
    "for a in range(0,numROIs):\n",
    "    mask = np.zeros(stackMPMC.mean(axis=0).shape)\n",
    "    pts\t= cv.ellipse2Poly(ellipseCentInt, (int(0.5*ellipseAx1), int(0.5*ellipseAx2)), int(ellipseAng),\n",
    "                          int(angStep*(a-1)), int(angStep*a), 3)\n",
    "    arcPts = np.append(pts,[np.array(ellipseCentInt)],axis=0)\n",
    "    mask = cv.fillConvexPoly(mask,arcPts, 1) \n",
    "    allMasks.append(mask)"
   ]
  },
  {
   "cell_type": "code",
   "execution_count": null,
   "metadata": {},
   "outputs": [],
   "source": [
    "fig = plt.figure()\n",
    "for roi in range(0,numROIs):\n",
    "    ax = fig.add_subplot(4,4,roi+1)\n",
    "    ax.imshow(allMasks[roi])"
   ]
  },
  {
   "cell_type": "markdown",
   "metadata": {},
   "source": [
    "### Use the masks to get the DF/F"
   ]
  },
  {
   "cell_type": "code",
   "execution_count": null,
   "metadata": {},
   "outputs": [],
   "source": [
    "# Get the raw fluorescence\n",
    "rawF = np.zeros((stackMPMC.shape[0],numROIs))\n",
    "for fm in range(0,stackMPMC.shape[0]):\n",
    "    fmNow = stackMPMC[fm,:,:]\n",
    "    for roi in range(0,len(allMasks)):\n",
    "        rawF[fm,roi] = np.multiply(fmNow, allMasks[roi]).sum()"
   ]
  },
  {
   "cell_type": "code",
   "execution_count": null,
   "metadata": {},
   "outputs": [],
   "source": [
    "# Convert to DF/F\n",
    "DF = np.zeros((stackMPMC.shape[0],numROIs))\n",
    "for roi in range(0,len(allMasks)):\n",
    "    Fbaseline = np.sort(rawF[:,roi])[0:round(0.1*stackMPMC.shape[0])].mean()\n",
    "    DF[:,roi] = rawF[:,roi]/Fbaseline-1"
   ]
  },
  {
   "cell_type": "code",
   "execution_count": null,
   "metadata": {},
   "outputs": [],
   "source": [
    "fig, ax1 = plt.subplots(1,1,figsize=(6,6))\n",
    "act = ax1.imshow(DF.T,cmap='Blues',vmin=0,vmax=1.2)\n",
    "ax1.set_aspect(25)\n",
    "cbar=fig.colorbar(act,ax=ax1)"
   ]
  },
  {
   "cell_type": "markdown",
   "metadata": {},
   "source": [
    "## Load the behavioral data"
   ]
  },
  {
   "cell_type": "code",
   "execution_count": 3,
   "metadata": {},
   "outputs": [],
   "source": [
    "behavDatNm = 'Fly1_6-7days_7fx60D05_01.txt'\n",
    "SYNCDatNm = 'Fly1_6-7days_7fx60D05_01_SYNC.txt'\n",
    "\n",
    "SYNCDat = pd.read_csv(sep.join([dataDir, SYNCDatNm]),header=None, names = ['tFramegrab','tVR','tStim'])"
   ]
  },
  {
   "cell_type": "code",
   "execution_count": 39,
   "metadata": {},
   "outputs": [],
   "source": [
    "et =[]; ro = []; fo = []; lo = []\n",
    "dx0 = []; dx1 = []; dy0 = []; dy1 = []\n",
    "cl = []; old = []; tr = []; olg = []; clg = []\n",
    "\n",
    "with open(sep.join([dataDir, behavDatNm]), 'r') as fh:\n",
    "    for i,line in enumerate(fh):\n",
    "        if i>3:\n",
    "            prts = re.split('\\t|\\n',line)\n",
    "            for j,p in enumerate(prts):\n",
    "                if j == 1: et.append(float(prts[j]))\n",
    "                if j == 3: ro.append(float(prts[j]))\n",
    "                if j == 5: fo.append(float(prts[j]))\n",
    "                if j == 7: lo.append(float(prts[j]))\n",
    "                if j == 9: dx0.append(float(prts[j]))\n",
    "                if j == 11: dx1.append(float(prts[j]))\n",
    "                if j == 13: dy0.append(float(prts[j]))\n",
    "                if j == 15: dy1.append(float(prts[j]))\n",
    "                if j == 17: cl.append(int(prts[j]))\n",
    "                if j == 19: old.append(int(prts[j]))\n",
    "                if j == 21: tr.append(int(prts[j]))\n",
    "                if j == 23: olg.append(float(prts[j]))\n",
    "                if j == 25: clg.append(float(prts[j]))\n",
    "            \n",
    "behavDat = pd.DataFrame({'Elapsed time': et,\n",
    "              'Rotational offset': ro, 'Forward offset': fo, 'Lateral offset': lo,\n",
    "              'dx0': dx0, 'dx1': dx1, 'dy0': dy0, 'dy1': dy1,\n",
    "              'closed': cl, 'olsdir': old, 'trans': tr,\n",
    "              'olgain': olg, 'clgain': clg\n",
    "            })"
   ]
  },
  {
   "cell_type": "code",
   "execution_count": 60,
   "metadata": {},
   "outputs": [
    {
     "data": {
      "text/plain": [
       "<matplotlib.axes._subplots.AxesSubplot at 0x173e4927bc8>"
      ]
     },
     "execution_count": 60,
     "metadata": {},
     "output_type": "execute_result"
    },
    {
     "data": {
      "image/png": "[encoded data removed]",
      "text/plain": [
       "<Figure size 432x288 with 1 Axes>"
      ]
     },
     "metadata": {
      "needs_background": "light"
     },
     "output_type": "display_data"
    }
   ],
   "source": [
    "behavDat[['closed','olsdir','trans']][0:len(behavDat)-2].plot()"
   ]
  }
 ],
 "metadata": {
  "kernelspec": {
   "display_name": "Python 3",
   "language": "python",
   "name": "python3"
  },
  "language_info": {
   "codemirror_mode": {
    "name": "ipython",
    "version": 3
   },
   "file_extension": ".py",
   "mimetype": "text/x-python",
   "name": "python",
   "nbconvert_exporter": "python",
   "pygments_lexer": "ipython3",
   "version": "3.7.7"
  }
 },
 "nbformat": 4,
 "nbformat_minor": 4
}
